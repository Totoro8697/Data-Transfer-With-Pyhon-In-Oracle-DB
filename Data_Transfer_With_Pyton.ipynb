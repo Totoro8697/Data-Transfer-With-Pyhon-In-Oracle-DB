{
 "cells": [
  {
   "cell_type": "markdown",
   "id": "3b12e073-01c6-4736-b271-46e811c0f136",
   "metadata": {},
   "source": [
    "### Below cell demonstrates how to we get connect Oracle DB. \n",
    "\n",
    "* First, we import libraries. \n",
    "* Second, there is a fucntion regarding DB configiration.\n",
    "* Usually in work there are two DB which names are Dev and Prod. We work in dev then we take our development to the prod. So this func have 2 options about that we can easly use. "
   ]
  },
  {
   "cell_type": "code",
   "execution_count": 1,
   "id": "a19733b9-d43a-464d-a025-303ec8eef30a",
   "metadata": {},
   "outputs": [],
   "source": [
    "import pandas as pd\n",
    "import cx_Oracle as ora\n",
    "import sqlalchemy as sa\n",
    "\n",
    "def get_database_engine(database_name):\n",
    "    database_config={\n",
    "        \"prod\": {\n",
    "            \"user\": \"user_name\",\n",
    "            \"password\": \"db_password\",\n",
    "            \"dsn\": ora.makedsn('dns_adress', \"port\", service_name='db_name')\n",
    "        },\n",
    "        \"dev\": {\n",
    "            \"user\": \"user_name\",\n",
    "            \"password\": \"db_password\",\n",
    "            \"dsn\": ora.makedsn('dns_adress', \"port\", service_name='db_name')\n",
    "        },\n",
    "    }\n",
    "    return sa.create_engine(f'oracle+cx_oracle://{database_config[database_name][\"user\"]}:{database_config[database_name][\"password\"]}@{database_config[database_name][\"dsn\"]}')\n",
    "\n",
    "\n"
   ]
  },
  {
   "cell_type": "code",
   "execution_count": null,
   "id": "6a4987d7-657a-4833-b22c-b06e768b7da1",
   "metadata": {},
   "outputs": [],
   "source": [
    "# After we create db_engine we can use it for writing DF to db or getting data from db to DF.\n",
    "\n",
    "# There are two param about schema and which db we gonna work. \n",
    "schema = \"which schema for writing the table\"\n",
    "which_db = \"prodaction or development\" \n",
    "if_exists = \"it can be replace or append. If replace then it will clear all old data and replace it to new. If append then it will append new data to already exist one.\"\n",
    "\n",
    "# The job of this func is write avaliable DataFrame to DB.\n",
    "def write_to_database(df, table_name):\n",
    "    with get_database_engine(which_db).connect() as connection:\n",
    "        _dtype={c:sa.types.VARCHAR(df[c].str.len().max()) for c in df.columns[df.dtypes=='object'].tolist()}\n",
    "        _dtype.update({c:sa.types.NUMERIC(16,2) for c in df.columns[(df.dtypes=='float64') | (df.dtypes=='int64')].tolist()})\n",
    "        df.to_sql(table_name, connection, schema=schema, index=False, if_exists=if_exists, dtype=_dtype)\n",
    "        connection.close()\n",
    "        connection.engine.dispose()\n",
    "        \n",
    "# And second func gets data from db to our DataFrame Object. \n",
    "with get_database_engine(which_db).connect() as connection:\n",
    "    df=pd.read_sql(\"\"\"select /*+parallel(8)*/ * from customers\"\"\", connection)\n",
    "    connection.close()\n",
    "    connection.engine.dispose()"
   ]
  },
  {
   "cell_type": "code",
   "execution_count": null,
   "id": "d1f13327-a80a-482c-bcb1-b6f5883be186",
   "metadata": {},
   "outputs": [],
   "source": []
  },
  {
   "cell_type": "code",
   "execution_count": null,
   "id": "4dd05879-e963-44a1-b16f-292959f7c396",
   "metadata": {},
   "outputs": [],
   "source": [
    "# As I said, we usually work two different db (dev, prod) and we might want to transfer data one to another. \n",
    "## Our func can do that too but it can be a problem.there might be a problem about that. Sometimes a column can full empty and it make a problem which is about to data type. \n",
    "## If we are trying to data transfer one db to another db in oracle, there is always all_tab_columns and we can use it for getting right column types. \n",
    "\n",
    "\n",
    "table_name_from_db = \"''\"\n",
    "\n",
    "ower = \"'DMFACT'\"\n",
    "# owner represents table scheme. \n",
    "\n",
    "with get_database_engine(\"prod\").connect() as connection:\n",
    "    df2=pd.read_sql(\"\"\"SELECT COLUMN_NAME,DATA_TYPE,DATA_LENGTH ,DATA_PRECISION FROM all_tab_columns WHERE TABLE_name  =\"\"\"+str(table_name_from_db)+\"\"\"AND owner =\"\"\"+str(ower)+\"\"\"ORDER BY COLUMN_ID   \"\"\", connection)\n",
    "    _dtype={c:sa.types.VARCHAR(df2[df2[\"column_name\"]==str(c).upper()][\"data_length\"].values[0]) for c in df.columns[df.dtypes=='object'].tolist()}\n",
    "    _dtype.update({c:sa.types.NUMERIC(16,2) for c in df.columns[(df.dtypes=='float64') | (df.dtypes=='int64')].tolist()})\n",
    "    df.to_sql(\".....\", connection, schema=schema, index=False, if_exists=if_exists, dtype=_dtype)\n",
    "    connection.close()"
   ]
  },
  {
   "cell_type": "code",
   "execution_count": null,
   "id": "264f1286-e43e-4950-a424-5444695f2088",
   "metadata": {},
   "outputs": [],
   "source": []
  },
  {
   "cell_type": "code",
   "execution_count": null,
   "id": "e48372be-7d94-4dc3-8700-c86733920c62",
   "metadata": {},
   "outputs": [],
   "source": []
  },
  {
   "cell_type": "code",
   "execution_count": null,
   "id": "3604927b-7fe4-414f-996b-f45f8522dcb9",
   "metadata": {},
   "outputs": [],
   "source": []
  },
  {
   "cell_type": "code",
   "execution_count": null,
   "id": "84fd73bd-86ea-45f8-bdac-e6e122973faf",
   "metadata": {},
   "outputs": [],
   "source": []
  }
 ],
 "metadata": {
  "kernelspec": {
   "display_name": "Python 3 (ipykernel)",
   "language": "python",
   "name": "python3"
  },
  "language_info": {
   "codemirror_mode": {
    "name": "ipython",
    "version": 3
   },
   "file_extension": ".py",
   "mimetype": "text/x-python",
   "name": "python",
   "nbconvert_exporter": "python",
   "pygments_lexer": "ipython3",
   "version": "3.9.7"
  }
 },
 "nbformat": 4,
 "nbformat_minor": 5
}
